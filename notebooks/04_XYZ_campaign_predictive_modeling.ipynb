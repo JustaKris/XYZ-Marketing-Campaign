{
 "cells": [
  {
   "cell_type": "code",
   "execution_count": 1,
   "metadata": {},
   "outputs": [],
   "source": [
    "# Imports\n",
    "import os\n",
    "import dill\n",
    "import numpy as np\n",
    "import pandas as pd\n",
    "import seaborn as sns \n",
    "import matplotlib.pyplot as plt\n",
    "import mlflow\n",
    "import mlflow.sklearn\n",
    "\n",
    "from datetime import datetime\n",
    "\n",
    "from sklearn.model_selection import train_test_split\n",
    "from sklearn.preprocessing import StandardScaler\n",
    "\n",
    "from sklearn.linear_model import LogisticRegression\n",
    "from sklearn.ensemble import RandomForestClassifier, GradientBoostingClassifier\n",
    "from sklearn.neighbors import KNeighborsClassifier\n",
    "from sklearn.svm import LinearSVC\n",
    "\n",
    "from sklearn.model_selection import cross_val_score, GridSearchCV\n",
    "from sklearn.metrics import accuracy_score, classification_report, confusion_matrix, f1_score, roc_auc_score"
   ]
  },
  {
   "cell_type": "code",
   "execution_count": 2,
   "metadata": {},
   "outputs": [],
   "source": [
    "# Directory config to project root to insure consistency across environments for project specific imports\n",
    "from pyprojroot import here\n",
    "os.chdir(here())\n",
    "\n",
    "# Custom imports\n"
   ]
  },
  {
   "cell_type": "code",
   "execution_count": 3,
   "metadata": {},
   "outputs": [],
   "source": [
    "# Load dataset\n",
    "data = pd.read_csv(\"./data/02_engineered_data.csv\")"
   ]
  },
  {
   "cell_type": "code",
   "execution_count": 4,
   "metadata": {},
   "outputs": [
    {
     "name": "stdout",
     "output_type": "stream",
     "text": [
      "<class 'pandas.core.frame.DataFrame'>\n",
      "RangeIndex: 16048 entries, 0 to 16047\n",
      "Data columns (total 26 columns):\n",
      " #   Column                   Non-Null Count  Dtype  \n",
      "---  ------                   --------------  -----  \n",
      " 0   PERSON_ID                16048 non-null  int64  \n",
      " 1   WEIGHT                   16048 non-null  float64\n",
      " 2   GENDER                   16048 non-null  object \n",
      " 3   NUMBER_OF_CHILDREN       16048 non-null  int64  \n",
      " 4   AGE                      16048 non-null  int64  \n",
      " 5   HOUSEHOLD_SIZE           16048 non-null  int64  \n",
      " 6   TV_TOTAL                 16048 non-null  float64\n",
      " 7   FLYERS                   16048 non-null  float64\n",
      " 8   PRINT_TOTAL              16048 non-null  float64\n",
      " 9   ONLINE_VIDEO             16048 non-null  float64\n",
      " 10  ONLINE_DISPLAY           16048 non-null  float64\n",
      " 11  ONLINE_TOTAL             16048 non-null  float64\n",
      " 12  TIKTOK                   16048 non-null  float64\n",
      " 13  YOUTUBE_TOTAL            16048 non-null  float64\n",
      " 14  YOUTUBE_MOBILE           16048 non-null  float64\n",
      " 15  YOUTUBE_DESKTOP          16048 non-null  float64\n",
      " 16  YOUTUBE_TABLET           16048 non-null  float64\n",
      " 17  YOUTUBE_CTV              16048 non-null  float64\n",
      " 18  PINTEREST                16048 non-null  float64\n",
      " 19  PURCHASE                 16048 non-null  bool   \n",
      " 20  OUTLIER_SCORE            16048 non-null  float64\n",
      " 21  TOTAL_MEDIA_EXPOSURE     16048 non-null  float64\n",
      " 22  DIGITAL_MEDIA_TOTAL      16048 non-null  float64\n",
      " 23  TRADITIONAL_MEDIA_TOTAL  16048 non-null  float64\n",
      " 24  AGE_GROUP                16048 non-null  object \n",
      " 25  HEAVY_MEDIA_USER         16048 non-null  bool   \n",
      "dtypes: bool(2), float64(18), int64(4), object(2)\n",
      "memory usage: 3.0+ MB\n"
     ]
    }
   ],
   "source": [
    "data.info()"
   ]
  },
  {
   "cell_type": "markdown",
   "metadata": {},
   "source": [
    "## 1. Data Pre-Proccessing"
   ]
  },
  {
   "cell_type": "code",
   "execution_count": 5,
   "metadata": {},
   "outputs": [],
   "source": [
    "# Get dummies for gender\n",
    "data = pd.get_dummies(data, columns=['GENDER'], drop_first=True)  # Drop one category to avoid multicollinearity"
   ]
  },
  {
   "cell_type": "code",
   "execution_count": 6,
   "metadata": {},
   "outputs": [],
   "source": [
    "# List of all features in the dataset for easy selection\n",
    "train_features = [\n",
    "    # 'PERSON_ID',\n",
    "    # 'WEIGHT',\n",
    "    'GENDER_MALE',\n",
    "    'GENDER_UNKNOWN',\n",
    "    'NUMBER_OF_CHILDREN',\n",
    "    'AGE',\n",
    "    'HOUSEHOLD_SIZE',\n",
    "    'TV_TOTAL',\n",
    "    'FLYERS',\n",
    "    'PRINT_TOTAL',\n",
    "    'ONLINE_VIDEO',\n",
    "    'ONLINE_DISPLAY',\n",
    "    'ONLINE_TOTAL',\n",
    "    'TIKTOK',\n",
    "    'YOUTUBE_TOTAL',\n",
    "    'YOUTUBE_MOBILE',\n",
    "    'YOUTUBE_DESKTOP',\n",
    "    'YOUTUBE_TABLET',\n",
    "    'YOUTUBE_CTV',\n",
    "    'PINTEREST',\n",
    "    # 'PURCHASE',\n",
    "    'OUTLIER_SCORE',\n",
    "    'TOTAL_MEDIA_EXPOSURE',\n",
    "    'DIGITAL_MEDIA_TOTAL',\n",
    "    'TRADITIONAL_MEDIA_TOTAL',\n",
    "    # 'AGE_GROUP',\n",
    "    'HEAVY_MEDIA_USER'\n",
    "]\n"
   ]
  },
  {
   "cell_type": "code",
   "execution_count": 7,
   "metadata": {},
   "outputs": [
    {
     "data": {
      "text/plain": [
       "((16048, 23), (16048,), (16048,))"
      ]
     },
     "execution_count": 7,
     "metadata": {},
     "output_type": "execute_result"
    }
   ],
   "source": [
    "# Split data into features and labels\n",
    "X = data[train_features]\n",
    "y = data['PURCHASE']  # Target variable\n",
    "weights = data['WEIGHT']  # Store sample weights separately\n",
    "\n",
    "# Shape check\n",
    "X.shape, y.shape, weights.shape"
   ]
  },
  {
   "cell_type": "markdown",
   "metadata": {},
   "source": [
    "### Train/Test split\n",
    "\n",
    "I want to make sure and split the data before applying scaling otherwise if we were to scale the data before splitting, information from the test set will leak into the training process. This would give the model an unfair advantage and could lead to overfitting. Scaling after the split ensures that the scaling process only considers the training data, which should mirror real-world conditions where we would only have access to the training data to train our model."
   ]
  },
  {
   "cell_type": "code",
   "execution_count": 8,
   "metadata": {},
   "outputs": [],
   "source": [
    "# Split the data into training and test sets\n",
    "X_train, X_test, y_train, y_test, w_train, w_test = train_test_split(X, y, weights, test_size=0.2, random_state=42)"
   ]
  },
  {
   "cell_type": "markdown",
   "metadata": {},
   "source": [
    "### Data Scaling\n",
    "\n",
    "- The features in this dataset don't contain particularly large values, but scaling remains an easy and effective way to enhance model performance, so it's worth utilizing. However, I'll be excluding binary and boolean features from scaling, since that could distort their meaning without adding value to model performance and is unlikely to improve accuracy.\n",
    "\n",
    "- Scaling the weights should not be required since they adjust the loss function on a per-observation basis and it shouldn't matter if the values vary significantly as long as they are consistent in their relative importance."
   ]
  },
  {
   "cell_type": "code",
   "execution_count": 9,
   "metadata": {},
   "outputs": [],
   "source": [
    "# List of columns to not scale (categorical and/or binary columns)\n",
    "exclude_columns = ['PERSON_ID', 'TARGET_GROUP', 'OUTLIER_SCORE', 'HEAVY_MEDIA_USER', 'ENGAGED_VIDEO_USER']\n",
    "\n",
    "# List of all columns in the dataframe\n",
    "all_columns = X_train.columns.tolist()\n",
    "\n",
    "# Columns to scale: all columns except the ones to exclude\n",
    "columns_to_scale = [col for col in all_columns if col not in exclude_columns]\n",
    "\n",
    "# Initialize scaler\n",
    "scaler = StandardScaler()\n",
    "\n",
    "# Scale specific features in train and test data\n",
    "X_train_scaled = X_train.copy()\n",
    "X_test_scaled = X_test.copy()\n",
    "\n",
    "X_train_scaled[columns_to_scale] = scaler.fit_transform(X_train_scaled[columns_to_scale])\n",
    "X_test_scaled[columns_to_scale] = scaler.transform(X_test_scaled[columns_to_scale])"
   ]
  },
  {
   "cell_type": "markdown",
   "metadata": {},
   "source": [
    "## 2. Preliminary Model Selection\n",
    "\n",
    "We will run cross-validation on several models that are expected to perform well on this dataset. For this task, it is crucial to minimize misclassifications: false positives lead to unnecessary marketing spend on unlikely purchasers, while false negatives mean missing potential buyers. Given that missing a purchaser is more costly—especially when a campaign is already underway—our focus will be on models that maximize recall without sacrificing overall performance. \n",
    "\n",
    "That being said, for an initial overview I will go with a more balanced approach and use **F1 score** as my initial metric.\n",
    "\n"
   ]
  },
  {
   "cell_type": "code",
   "execution_count": 10,
   "metadata": {},
   "outputs": [],
   "source": [
    "def model_evaluation(models: dict, X_train, y_train, w_train=None):\n",
    "    \"\"\"\n",
    "    This function uses Cross Validation to evaluate models' perfomence. Returns a report of the models' names and mean scores.\n",
    "    \"\"\"\n",
    "\n",
    "    evaluation_report = {}\n",
    "    for model_name, model in models.items():\n",
    "\n",
    "        cv = cross_val_score(\n",
    "            model, \n",
    "            X_train, \n",
    "            y_train, \n",
    "            cv=5, \n",
    "            scoring=\"f1\", \n",
    "            # fit_params={'sample_weight': w_train},\n",
    "            n_jobs=-1\n",
    "        )\n",
    "\n",
    "        evaluation_report[model_name] = cv.mean()\n",
    "        \n",
    "        cv_rounded = [f\"{round(score * 100, 1)}%\" for score in cv]\n",
    "        cv_mean = f\"{round(cv.mean() * 100, 1)}%\"\n",
    "        \n",
    "        print(f\"{model_name}:\\n- CV F1 scores: {' | '.join([item for item in cv_rounded])}\\n- CV mean: {cv_mean}\\n\")\n",
    "\n",
    "    return evaluation_report\n",
    "\n",
    "\n",
    "# Models for preliminary testing\n",
    "models = {\n",
    "    'Logistic Regression': LogisticRegression(max_iter=2000, random_state=42),\n",
    "    'Random Forest Classifier': RandomForestClassifier(random_state=42),\n",
    "    'GradientBoostingClassifier': GradientBoostingClassifier(random_state=42),\n",
    "    'KNeighbors Classifier': KNeighborsClassifier(),\n",
    "    'LinearSVC': LinearSVC(random_state=42),\n",
    "}"
   ]
  },
  {
   "cell_type": "code",
   "execution_count": 11,
   "metadata": {},
   "outputs": [
    {
     "name": "stdout",
     "output_type": "stream",
     "text": [
      "Logistic Regression:\n",
      "- CV F1 scores: 69.3% | 63.2% | 65.7% | 65.2% | 66.3%\n",
      "- CV mean: 65.9%\n",
      "\n",
      "Random Forest Classifier:\n",
      "- CV F1 scores: 65.9% | 61.8% | 64.0% | 61.8% | 65.5%\n",
      "- CV mean: 63.8%\n",
      "\n",
      "GradientBoostingClassifier:\n",
      "- CV F1 scores: 67.8% | 61.9% | 65.7% | 63.9% | 67.0%\n",
      "- CV mean: 65.3%\n",
      "\n",
      "KNeighbors Classifier:\n",
      "- CV F1 scores: 64.6% | 58.7% | 62.7% | 60.7% | 62.1%\n",
      "- CV mean: 61.8%\n",
      "\n",
      "LinearSVC:\n",
      "- CV F1 scores: 70.1% | 64.2% | 66.6% | 65.4% | 67.5%\n",
      "- CV mean: 66.8%\n",
      "\n"
     ]
    }
   ],
   "source": [
    "_ = model_evaluation(models, X_train_scaled, y_train, w_train)"
   ]
  },
  {
   "cell_type": "markdown",
   "metadata": {},
   "source": [
    "## 3. Model Tuning and Optimization\n",
    "\n",
    "Our initial experiments with several models have yielded decent results:\n",
    "\n",
    "- **Logistic Regression:**  \n",
    "  This model currently scores the highest, suggesting that much of the underlying data correlation is linearly separable. It merits further exploration and fine-tuning.\n",
    "\n",
    "- **Random Forest:**  \n",
    "  One of my favorites, Random Forest has shown strong performance and robustness. Although its score is slightly lower than Logistic Regression, I plan to experiment with hyperparameter tuning to potentially boost its performance.\n",
    "\n",
    "- **Gradient Boosting Classifier:**  \n",
    "  A consistently solid choice, the Gradient Boosting Classifier appears well-suited to this task, offering a good balance between performance and interpretability.\n",
    "\n",
    "- **Support Vector Classifier (SVC):**  \n",
    "  SVC is a powerful model; however, incorporating sample weights significantly increases processing time. While techniques like dimensionality reduction might mitigate this issue, I will prioritize the other models first before further exploring SVC."
   ]
  },
  {
   "cell_type": "markdown",
   "metadata": {},
   "source": [
    "### 3.0 Support Functions\n",
    "\n",
    "I will start by setting up some functions to make my life easier down the line.\n",
    "\n",
    "#### 3.0.1 Grid Search\n",
    "\n",
    "**Grid Seach** makes tuning hyper parameters easy and streight forward. I want to set up a functio nthat will allow me to apply the search to multitude of models easily. Additionally, so far we have not accounted for the **sampel weights** provided in the dataset. Grid Search does support that functionality so let's start by setting up a function to make tuning all models easier and more streamlined.\n",
    "\n",
    "As mentioned previously, the precission-recall tradeoff will be of vital importance so I will stick with F1 as the main socring matric for the grid search. I also want to be able to view the best performing hypeparameter settings and save the best model if desired. \n",
    "\n",
    "I will also incorporate **MLFlow** into the function for easy tracking of the model optimizations process."
   ]
  },
  {
   "cell_type": "code",
   "execution_count": 12,
   "metadata": {},
   "outputs": [],
   "source": [
    "# Set MLflow tracking directory to one level up (project root)\n",
    "mlflow.set_tracking_uri(\"../mlruns\")"
   ]
  },
  {
   "cell_type": "code",
   "execution_count": 13,
   "metadata": {},
   "outputs": [],
   "source": [
    "import uuid\n",
    "\n",
    "\n",
    "def tune_params(model, X_train, X_test, y_train, y_test, w_train, w_test, param_grid, scoring='f1'):\n",
    "    # Define a clear experiment name\n",
    "    experiment_name = f\"Exp_{model.__class__.__name__}_{datetime.now().strftime('%Y-%m-%d_%H-%M-%S')}\"\n",
    "    mlflow.set_experiment(experiment_name)  # Set experiment name explicitly\n",
    "\n",
    "    # Define a custom run name for easier tracking\n",
    "    run_name = f\"{model.__class__.__name__}_Run_{datetime.now().strftime('%Y-%m-%d_%H-%M-%S')}\"\n",
    "\n",
    "    # Generate a custom, human-readable run_id (with timestamp and random UUID for uniqueness)\n",
    "    run_id = f\"{model.__class__.__name__}_{datetime.now().strftime('%Y-%m-%d_%H-%M-%S')}_{str(uuid.uuid4())[:8]}\"  # Truncated UUID for brevity\n",
    "\n",
    "    with mlflow.start_run(run_name=run_name):\n",
    "        # Log basic model parameters\n",
    "        mlflow.log_param(\"model_type\", model.__class__.__name__)\n",
    "\n",
    "        # Initialize GridSearchCV\n",
    "        grid_search = GridSearchCV(\n",
    "            estimator=model,\n",
    "            param_grid=param_grid,\n",
    "            scoring=scoring,\n",
    "            cv=5,\n",
    "            n_jobs=-1,\n",
    "        )\n",
    "\n",
    "        # Fit the model\n",
    "        grid_search.fit(X_train, y_train, sample_weight=w_train)\n",
    "\n",
    "        # Get the best model\n",
    "        best_model = grid_search.best_estimator_\n",
    "\n",
    "        # Predict on test set and compute weighted F1 score\n",
    "        y_pred = best_model.predict(X_test)\n",
    "        weighted_f1 = f1_score(y_test, y_pred, sample_weight=w_test)\n",
    "\n",
    "        # MLFlow Logging\n",
    "        mlflow.log_metric(\"weighted_f1\", weighted_f1)  \n",
    "        mlflow.log_params(grid_search.best_params_)  \n",
    "        mlflow.sklearn.log_model(best_model, f\"Tuned_{model.__class__.__name__}\", input_example=X_train.iloc[:20])\n",
    "\n",
    "        # Print results\n",
    "        print(\"----------------------------------------\")\n",
    "        print(f\"Weighted F1 Score: {round(weighted_f1, 2)}\")\n",
    "        print(\"Best Parameters:\")\n",
    "        for param, value in grid_search.best_params_.items():\n",
    "            print(f\"{param}: {value}\")\n",
    "        print(\"----------------------------------------\")\n",
    "        \n",
    "        return best_model"
   ]
  },
  {
   "cell_type": "markdown",
   "metadata": {},
   "source": [
    "#### 3.0.2 Model Evaluation\n",
    "\n",
    "To efficiently evaluate the performance of each model, I'll set up a function that provides a comprehensive overview. The F1 score will be prioritized, as it offers a balanced measure of precision and recall, which is crucial for this task. Additionally, I'll include a classification report, which provides detailed insights into precision, recall, and support for each class. Finally, a confusion matrix will be used to visually assess the model’s predictions, providing concrete numbers behind the performance metrics."
   ]
  },
  {
   "cell_type": "code",
   "execution_count": 14,
   "metadata": {},
   "outputs": [],
   "source": [
    "def evaluate_model_performance(model, X, y, w_test):\n",
    "    \"\"\"\n",
    "    Evaluates the model performance using weighted ROC AUC, a weighted classification report,\n",
    "    and a weighted confusion matrix heatmap.\n",
    "\n",
    "    Args:\n",
    "        model: Trained model (e.g., SVC, RandomForest, etc.)\n",
    "        X: Features (DataFrame or array-like)\n",
    "        y: True labels (array-like)\n",
    "        w_test: Sample weights corresponding to each observation in X and y\n",
    "        \n",
    "    Returns:\n",
    "        None\n",
    "    \"\"\"\n",
    "    # Make predictions\n",
    "    y_pred = model.predict(X)\n",
    "    # y_prob = model.predict_proba(X)[:, 1]  # Probability estimates for the positive class\n",
    "\n",
    "    # custom_threshold = 0.3\n",
    "    # y_prob = (y_prob >= custom_threshold).astype(int)\n",
    "\n",
    "    # Calculate and print the weighted ROC AUC score\n",
    "    print(\"||---------------------------------------------------------------------\")\n",
    "    metric_score = f1_score(y, y_pred, sample_weight=w_test)\n",
    "    print(f\"Weighted F1 score Score: {metric_score:.4f}\")\n",
    "\n",
    "    # Generate and print the weighted classification report\n",
    "    print(\"||---------------------------------------------------------------------\")\n",
    "    class_report = classification_report(y, y_pred, sample_weight=w_test)\n",
    "    print(\"\\nWeighted Classification Report:\\n\", class_report)\n",
    "    \n",
    "    # Compute the weighted confusion matrix\n",
    "    print(\"||---------------------------------------------------------------------\")\n",
    "    cm = confusion_matrix(y, y_pred, sample_weight=w_test)\n",
    "    \n",
    "    # Plot the weighted confusion matrix as a heatmap\n",
    "    plt.figure(figsize=(6, 5))\n",
    "    sns.heatmap(cm, annot=True, fmt='.0f', cmap='Blues', \n",
    "                xticklabels=['Pred: No', 'Pred: Yes'], \n",
    "                yticklabels=['True: No', 'True: Yes'], cbar=False)\n",
    "    plt.title('Weighted Confusion Matrix Heatmap')\n",
    "    plt.ylabel('True Label')\n",
    "    plt.xlabel('Predicted Label')\n",
    "    plt.show()\n"
   ]
  },
  {
   "cell_type": "markdown",
   "metadata": {},
   "source": [
    "#### 3.0.3 Save Model\n",
    "A function to save models in the `models/` folder for future use."
   ]
  },
  {
   "cell_type": "code",
   "execution_count": 15,
   "metadata": {},
   "outputs": [],
   "source": [
    "def save_model(model, model_name, models_folder=\".\\models\"):\n",
    "    \"\"\"\n",
    "    Saves a trained model to the specified folder using dill.\n",
    "\n",
    "    Args:\n",
    "        model: The trained model to save.\n",
    "        model_name (str): The name of the file (e.g., \"best_model.pkl\").\n",
    "        models_folder (str): The folder in which to save the model (default is \"models\").\n",
    "\n",
    "    Returns:\n",
    "        str: The full path to the saved model file.\n",
    "    \"\"\"\n",
    "    # Create the models folder if it doesn't exist.\n",
    "    if not os.path.exists(models_folder):\n",
    "        os.makedirs(models_folder)\n",
    "    \n",
    "    # Construct the full file path.\n",
    "    model_path = os.path.join(models_folder, model_name)\n",
    "    \n",
    "    # Save the model using dill.\n",
    "    with open(model_path, 'wb') as file:\n",
    "        dill.dump(model, file)\n",
    "    print(f\"Model saved to: {model_path}\")\n",
    "    \n",
    "    # return model_path"
   ]
  },
  {
   "cell_type": "markdown",
   "metadata": {},
   "source": [
    "#### 3.0.4 Load Model\n",
    "A function for loading a saved model."
   ]
  },
  {
   "cell_type": "code",
   "execution_count": 16,
   "metadata": {},
   "outputs": [],
   "source": [
    "def load_model(model_name, models_folder=\".\\\\models\"):\n",
    "    \"\"\"\n",
    "    Loads a model from the specified folder using dill.\n",
    "\n",
    "    Args:\n",
    "        model_name (str): The name of the model file to load (e.g., \"best_model.pkl\").\n",
    "        models_folder (str): The folder from which to load the model (default is \".\\\\models\").\n",
    "\n",
    "    Returns:\n",
    "        The loaded model if successful; None otherwise.\n",
    "    \"\"\"\n",
    "    # Construct the full file path.\n",
    "    model_path = os.path.join(models_folder, model_name)\n",
    "    \n",
    "    try:\n",
    "        with open(model_path, 'rb') as file:\n",
    "            model = dill.load(file)\n",
    "        print(f\"Model loaded from: {model_path}\")\n",
    "        return model\n",
    "    except Exception as e:\n",
    "        print(f\"Unable to load model from: {model_path}. Error: {e}\")\n",
    "        return None\n"
   ]
  },
  {
   "cell_type": "markdown",
   "metadata": {},
   "source": [
    "#### 3.0.5 Feature Importances\n",
    "Visualizing feature importances is crucial for understanding which features a model considers most valuable. This insight helps identify and filter out less informative features, reducing the dataset size while retaining the majority of relevant information. As a result, we can train models more efficiently without sacrificing accuracy. Additionally, it provides guidance on which features to prioritize in future campaigns, enabling more targeted and effective marketing strategies."
   ]
  },
  {
   "cell_type": "code",
   "execution_count": 17,
   "metadata": {},
   "outputs": [],
   "source": [
    "def display_feature_importances(model, dataframe):\n",
    "    # Get feature importance\n",
    "    importance_df = pd.DataFrame({\n",
    "        'Feature': dataframe.columns,\n",
    "        'Importance': model.feature_importances_\n",
    "    })\n",
    "\n",
    "    # Sort by importance\n",
    "    importance_df = importance_df.sort_values(by='Importance', ascending=False)\n",
    "\n",
    "    # Plot the top most important features\n",
    "    plt.figure(figsize=(10, 6))\n",
    "    plt.barh(importance_df['Feature'][:10], importance_df['Importance'][:10], color='skyblue')\n",
    "    plt.xlabel('Importance')\n",
    "    plt.title(f'Top Feature Importances from {type(model).__name__}')\n",
    "    plt.gca().invert_yaxis()  # Invert the y-axis to display the most important features at the top\n",
    "    plt.show()"
   ]
  },
  {
   "cell_type": "markdown",
   "metadata": {},
   "source": [
    "### 3.1 Logistic Regression\n",
    "\n",
    "Let's start by attempting to squeeze a bit more performance out of LR. It's a simplistic model, quick to tune and will give us a general idea of what can be expect out of this dataset. So far we have not accounted for the **sampel weights** provided in the dataset. **Grid Search** does support that functionality so let's start by setting up a function to make reusing grid search on other models easier and more streamlined."
   ]
  },
  {
   "cell_type": "code",
   "execution_count": 18,
   "metadata": {},
   "outputs": [
    {
     "name": "stderr",
     "output_type": "stream",
     "text": [
      "2025/02/16 13:07:13 INFO mlflow.tracking.fluent: Experiment with name 'Exp_LogisticRegression_2025-02-16_13-07-12' does not exist. Creating a new experiment.\n"
     ]
    },
    {
     "name": "stdout",
     "output_type": "stream",
     "text": [
      "----------------------------------------\n",
      "Weighted F1 Score: 0.63\n",
      "Best Parameters:\n",
      "C: 1\n",
      "max_iter: 50\n",
      "penalty: l1\n",
      "solver: liblinear\n",
      "----------------------------------------\n"
     ]
    }
   ],
   "source": [
    "# # Initialize the model\n",
    "lr = LogisticRegression(max_iter=1000, random_state=42)\n",
    "\n",
    "# Define hyperparameter grid for tuning\n",
    "lr_param_grid = {\n",
    "    'max_iter' : [4, 10, 50, 100],\n",
    "    'C': [0.01, 0.1, 1, 10, 100],  # Regularization strength\n",
    "    'solver': ['liblinear', 'saga'],  # Optimizer\n",
    "    'penalty': ['l1', 'l2'],  # Regularization type\n",
    "}\n",
    "\n",
    "best_lr = tune_params(lr, X_train_scaled, X_test_scaled, y_train, y_test, w_train, w_test, lr_param_grid)"
   ]
  },
  {
   "cell_type": "code",
   "execution_count": 19,
   "metadata": {},
   "outputs": [
    {
     "name": "stdout",
     "output_type": "stream",
     "text": [
      "||---------------------------------------------------------------------\n",
      "Weighted F1 score Score: 0.6311\n",
      "||---------------------------------------------------------------------\n",
      "\n",
      "Weighted Classification Report:\n",
      "               precision    recall  f1-score   support\n",
      "\n",
      "       False       0.68      0.77      0.72 8922994.970000016\n",
      "        True       0.69      0.58      0.63 7791340.720000001\n",
      "\n",
      "    accuracy                           0.68 16714335.690000016\n",
      "   macro avg       0.68      0.68      0.68 16714335.690000016\n",
      "weighted avg       0.68      0.68      0.68 16714335.690000016\n",
      "\n",
      "||---------------------------------------------------------------------\n"
     ]
    },
    {
     "data": {
      "image/png": "[encoded data removed]",
      "text/plain": [
       "<Figure size 600x500 with 1 Axes>"
      ]
     },
     "metadata": {},
     "output_type": "display_data"
    }
   ],
   "source": [
    "#  Check results\n",
    "evaluate_model_performance(best_lr, X_test_scaled, y_test, w_test)"
   ]
  },
  {
   "cell_type": "markdown",
   "metadata": {},
   "source": [
    "#### Model Scoring Philosophy and Improvements\n",
    "\n",
    "The Logistic Regression model shows limited improvement after hyperparameter tuning, suggesting that it has reached its potential with this dataset. It likely captured the general relationship early on but lacks the capacity to capture more complex nuances in the data. As a result, we will need to explore more sophisticated models. \n",
    "\n",
    "The low recall for the positive class is particularly concerning. Even though the two classes have a near perfectly balanced distribution, the ultimate business goal is to identify the individuals who will make a purchase. I believe that missing potential buyers (false negatives) can be more costly than occasionally targeting someone who doesn’t purchase (false positives). Therefore, it makes sense to focus on maximizing recall for the positive class as it will mean catching as many potential purchasers as possible. In the context of an advertising campaign, we want to ensure that our model doesn’t overlook valuable customers. This approach supports a more aggressive targeting strategy, as was suggested during the data analysis, as I believe that could translate into higher revenue.\n",
    "\n",
    "### 3.2 Random Forrest\n",
    "\n",
    "Random Forest is a natural next step due to its increased capability to capture complex relationships and interactions within the data. Given its flexibility and ability to handle non-linearities, it should provide a better fit and improve performance compared to Logistic Regression.\n",
    "\n",
    "Let’s address the low recall on the positive class by applying class weights. By assigning a higher weight to the positive class, we can better balance the model’s focus, improving recall and aligning more closely with the objectives of the task."
   ]
  },
  {
   "cell_type": "code",
   "execution_count": 20,
   "metadata": {},
   "outputs": [
    {
     "name": "stdout",
     "output_type": "stream",
     "text": [
      "Model loaded from: .\\models\\3.2_best_rf.pkl\n"
     ]
    }
   ],
   "source": [
    "# Load model\n",
    "best_rf = load_model(\"3.2_best_rf.pkl\")"
   ]
  },
  {
   "cell_type": "code",
   "execution_count": 21,
   "metadata": {},
   "outputs": [],
   "source": [
    "if not best_rf:\n",
    "    \n",
    "    # Define custom class weights\n",
    "    class_weights = {0: 0.375, 1: 0.625}\n",
    "\n",
    "    # Initialize a random forest model\n",
    "    rf = RandomForestClassifier(\n",
    "        class_weight=class_weights, \n",
    "        random_state=42\n",
    "        )\n",
    "\n",
    "    # Define the hyperparameter grid for tuning\n",
    "    rf_param_grid = {\n",
    "        'n_estimators': [200, 400, 800],  # Number of trees\n",
    "        'max_depth': [5, 10, 20],  # Max depth of trees\n",
    "        'min_samples_split': [2, 5, 10],  # Min samples required to split an internal node\n",
    "        'min_samples_leaf': [4, 8, 12],  # Min samples required to be at a leaf node\n",
    "        'max_features': ['sqrt', 'log2'],  # Number of features to consider for the best split\n",
    "    }\n",
    "\n",
    "    # Hyperparam optimization\n",
    "    best_rf = tune_params(rf, X_train_scaled, X_test_scaled, y_train, y_test, w_train, w_test, rf_param_grid)\n",
    "\n",
    "    # Save best model\n",
    "    save_model(best_rf, \"3.2_best_rf.pkl\")"
   ]
  },
  {
   "cell_type": "code",
   "execution_count": 22,
   "metadata": {},
   "outputs": [
    {
     "name": "stdout",
     "output_type": "stream",
     "text": [
      "||---------------------------------------------------------------------\n",
      "Weighted F1 score Score: 0.6497\n",
      "||---------------------------------------------------------------------\n",
      "\n",
      "Weighted Classification Report:\n",
      "               precision    recall  f1-score   support\n",
      "\n",
      "       False       0.70      0.65      0.67 8922994.970000016\n",
      "        True       0.63      0.68      0.65 7791340.720000001\n",
      "\n",
      "    accuracy                           0.66 16714335.690000016\n",
      "   macro avg       0.66      0.66      0.66 16714335.690000016\n",
      "weighted avg       0.66      0.66      0.66 16714335.690000016\n",
      "\n",
      "||---------------------------------------------------------------------\n"
     ]
    },
    {
     "data": {
      "image/png": "[encoded data removed]",
      "text/plain": [
       "<Figure size 600x500 with 1 Axes>"
      ]
     },
     "metadata": {},
     "output_type": "display_data"
    }
   ],
   "source": [
    "evaluate_model_performance(best_rf, X_test_scaled, y_test, w_test)"
   ]
  },
  {
   "cell_type": "markdown",
   "metadata": {},
   "source": [
    "While applying class weights has reduced the overall F1 score, there has been a significant increase in recall for the positive class. This improvement is valuable, as it enhances our ability to correctly identify potential customers for targeted marketing efforts, aligning with our primary objective.\n",
    "\n",
    "LKet;s take a look at the feature importances for this optimized Random Forrest model:"
   ]
  },
  {
   "cell_type": "code",
   "execution_count": 23,
   "metadata": {},
   "outputs": [
    {
     "data": {
      "image/png": "[encoded data removed]",
      "text/plain": [
       "<Figure size 1000x600 with 1 Axes>"
      ]
     },
     "metadata": {},
     "output_type": "display_data"
    }
   ],
   "source": [
    "display_feature_importances(best_rf, X_train_scaled)"
   ]
  },
  {
   "cell_type": "markdown",
   "metadata": {},
   "source": [
    "As highlighted in the data analysis, overall media exposure emerges as the key driver of purchase behavior. The number of observations per channel also plays a crucial role, with channels that have the most exposure contributing significantly to the results. `OUTLIER_SOCRE` is also among the top contributors which indicates there is indded some value in providing the model with information about the possible outliers in the data.\n",
    "\n",
    "With these insights in mind, let's proceed to the next model and compare the outcomes.\n",
    "\n",
    "### 3.3 Gradient Boosting Classifier\n",
    "\n",
    "Gradient Boosting scored second highest, making it a promising candidate for further exploration. This model is known for its ability to capture complex relationships in the data through boosting, which could potentially improve predictive accuracy. Given its strong performance, it’s worth fine-tuning the hyperparameters to squeeze out any additional performance improvements. Let’s proceed with experimenting to see how it compares with the others."
   ]
  },
  {
   "cell_type": "code",
   "execution_count": 24,
   "metadata": {},
   "outputs": [
    {
     "name": "stdout",
     "output_type": "stream",
     "text": [
      "Model loaded from: .\\models\\3.3_best_gb.pkl\n"
     ]
    }
   ],
   "source": [
    "best_gb = load_model(\"3.3_best_gb.pkl\")"
   ]
  },
  {
   "cell_type": "code",
   "execution_count": 25,
   "metadata": {},
   "outputs": [],
   "source": [
    "if not best_gb:\n",
    "\n",
    "    # Initialize a Gradient Boosting model\n",
    "    gb = GradientBoostingClassifier(\n",
    "        validation_fraction=0.1,  # fraction of training data used for early stopping.\n",
    "        n_iter_no_change=10,  # if no improvement in validation score for these many iterations, training stops\n",
    "        tol=1e-4,  # tolerance for the early stopping criterion\n",
    "        random_state=42\n",
    "        )\n",
    "\n",
    "    # Define the hyperparameter grid for tuning\n",
    "    gb_param_grid = {\n",
    "        'n_estimators': [50, 100, 200],       # Number of boosting stages\n",
    "        'max_depth': [2, 4, 6],               # Maximum depth of each regression tree\n",
    "        'learning_rate': [0.01, 0.05, 0.1],   # Learning rate shrinks the contribution of each tree\n",
    "        'min_samples_split': [5, 10, 20],     # Minimum number of samples required to split an internal node\n",
    "        'min_samples_leaf': [1, 3, 5],        # Minimum number of samples required to be at a leaf node\n",
    "        'subsample': [0.6, 0.8]                # Fraction of samples used for fitting each tree\n",
    "    }\n",
    "\n",
    "    # Tune hyperparams\n",
    "    best_gb = tune_params(gb, X_train_scaled, X_test_scaled, y_train, y_test, w_train, w_test, gb_param_grid)\n",
    "\n",
    "    # Save best performing model\n",
    "    save_model(best_gb, \"3.3_best_gb.pkl\")"
   ]
  },
  {
   "cell_type": "code",
   "execution_count": 26,
   "metadata": {},
   "outputs": [
    {
     "name": "stdout",
     "output_type": "stream",
     "text": [
      "||---------------------------------------------------------------------\n",
      "Weighted F1 score Score: 0.6302\n",
      "||---------------------------------------------------------------------\n",
      "\n",
      "Weighted Classification Report:\n",
      "               precision    recall  f1-score   support\n",
      "\n",
      "       False       0.68      0.80      0.74 8922994.970000016\n",
      "        True       0.71      0.56      0.63 7791340.720000001\n",
      "\n",
      "    accuracy                           0.69 16714335.690000016\n",
      "   macro avg       0.70      0.68      0.68 16714335.690000016\n",
      "weighted avg       0.70      0.69      0.69 16714335.690000016\n",
      "\n",
      "||---------------------------------------------------------------------\n"
     ]
    },
    {
     "data": {
      "image/png": "[encoded data removed]",
      "text/plain": [
       "<Figure size 600x500 with 1 Axes>"
      ]
     },
     "metadata": {},
     "output_type": "display_data"
    }
   ],
   "source": [
    "evaluate_model_performance(best_gb, X_test_scaled, y_test, w_test)"
   ]
  },
  {
   "cell_type": "markdown",
   "metadata": {},
   "source": [
    "GradientBoosting shows a slight performance improvement over Random Forest. However, like the Logistic Regression model, it struggles with very low recall for the positive class when no class weights are applied. This indicates that the  the model is quite concervative with its predictions which is hindering its ability to correctly identify positive cases. I will stick to using class weights.\n",
    "\n",
    "Let's take a look at the feature importances for this model as well:"
   ]
  },
  {
   "cell_type": "code",
   "execution_count": 27,
   "metadata": {},
   "outputs": [
    {
     "data": {
      "image/png": "[encoded data removed]",
      "text/plain": [
       "<Figure size 1000x600 with 1 Axes>"
      ]
     },
     "metadata": {},
     "output_type": "display_data"
    }
   ],
   "source": [
    "display_feature_importances(best_gb, X_train_scaled)"
   ]
  },
  {
   "cell_type": "markdown",
   "metadata": {},
   "source": [
    "This model places a strong emphasis on total media exposure, further reinforcing the insights from our data analysis. The remaining features rank significantly lower in importance but still follow a similar pattern to what we observed with the Random Forest model."
   ]
  },
  {
   "cell_type": "markdown",
   "metadata": {},
   "source": [
    "### 3.4 LinearSVC\n",
    "\n",
    "As mentioned previously, the data seem to be quite linear so I will go with a LinearSVC as the regular SVC is just too impractical for me to be able to run it in a reasonable timeframe.\n",
    "\n",
    "Support Vector classifier did the best but wit hthe application of sample weights it is just way too slow for me to be able to run it in a reasonable timeframe"
   ]
  },
  {
   "cell_type": "code",
   "execution_count": 28,
   "metadata": {},
   "outputs": [
    {
     "name": "stdout",
     "output_type": "stream",
     "text": [
      "Model loaded from: .\\models\\3.4_best_linear_svc.pkl\n"
     ]
    }
   ],
   "source": [
    "best_linear_svc = load_model(\"3.4_best_linear_svc.pkl\")"
   ]
  },
  {
   "cell_type": "code",
   "execution_count": 29,
   "metadata": {},
   "outputs": [],
   "source": [
    "if not best_linear_svc:\n",
    "\n",
    "    # Define custom class weights\n",
    "    class_weights = {0: 0.35, 1: 0.65}\n",
    "\n",
    "    # Initialize LinearSVC\n",
    "    linear_svc = LinearSVC(\n",
    "        class_weight=class_weights, \n",
    "        random_state=42\n",
    "        )\n",
    "\n",
    "    # SVC param grid\n",
    "    linear_svc_param_grid = {\n",
    "        'C': [0.01, 0.1, 1, 10, 100],           # Regularization strength: smaller values specify stronger regularization.\n",
    "        'loss': ['hinge', 'squared_hinge'],      # Loss functions to try.\n",
    "        'max_iter': [1000, 5000, 10000]           # Increase iterations to ensure convergence.\n",
    "    }\n",
    "\n",
    "    # Tune params\n",
    "    best_linear_svc = tune_params(linear_svc, X_train_scaled, X_test_scaled, y_train, y_test, w_train, w_test, linear_svc_param_grid)\n",
    "\n",
    "    # Save best model\n",
    "    save_model(best_linear_svc, \"3.4_best_linear_svc.pkl\")"
   ]
  },
  {
   "cell_type": "code",
   "execution_count": 30,
   "metadata": {},
   "outputs": [
    {
     "name": "stdout",
     "output_type": "stream",
     "text": [
      "||---------------------------------------------------------------------\n",
      "Weighted F1 score Score: 0.6578\n",
      "||---------------------------------------------------------------------\n",
      "\n",
      "Weighted Classification Report:\n",
      "               precision    recall  f1-score   support\n",
      "\n",
      "       False       0.71      0.55      0.62 8922994.970000016\n",
      "        True       0.59      0.74      0.66 7791340.720000001\n",
      "\n",
      "    accuracy                           0.64 16714335.690000016\n",
      "   macro avg       0.65      0.65      0.64 16714335.690000016\n",
      "weighted avg       0.65      0.64      0.64 16714335.690000016\n",
      "\n",
      "||---------------------------------------------------------------------\n"
     ]
    },
    {
     "data": {
      "image/png": "[encoded data removed]",
      "text/plain": [
       "<Figure size 600x500 with 1 Axes>"
      ]
     },
     "metadata": {},
     "output_type": "display_data"
    }
   ],
   "source": [
    "evaluate_model_performance(best_linear_svc, X_test_scaled, y_test, w_test)"
   ]
  },
  {
   "cell_type": "markdown",
   "metadata": {},
   "source": [
    "LinearSVC has achieved the best overall performance. By applying a slightly more aggressive class weighting in favor of the positive class, we obtained results that are usable—although not as high as I had hoped."
   ]
  },
  {
   "cell_type": "markdown",
   "metadata": {},
   "source": [
    "## Summary and Conclusion\n",
    "\n",
    "In this modeling section, we explored several machine learning approaches to predict purchases based on socio-demographic and media exposure features. Our initial experiments with Logistic Regression provided a solid baseline, indicating that the main relationships in the data are largely linear. However, the model struggled to capture the nuances necessary to maximize recall on the positive class.\n",
    "\n",
    "To address this, we moved on to more sophisticated models such as Random Forest and Gradient Boosting. Random Forest demonstrated robust performance and provided valuable insights into feature importance, while Gradient Boosting further improved predictive accuracy. Despite these advances, we observed that without appropriate class weighting, even our best models suffered from lower recall for the positive class. By adjusting class and sample weights, we aimed to better capture potential purchasers—acknowledging that, for our marketing objectives, false negatives are particularly costly.\n",
    "\n",
    "Additionally, we explored LinearSVC as a fast and efficient option.\n",
    "\n",
    "Overall, our modeling efforts balanced several key aspects: achieving reasonable performance, optimizing recall for the positive class, and maintaining model interpretability for actionable insights. The iterative process of hyperparameter tuning and model comparison has resulted in a set of predictive models that can be deployed to support targeted marketing campaigns. Moving forward, further refinements—such as periodic retraining—could provide additional performance gains and adapt to evolving customer behavior."
   ]
  }
 ],
 "metadata": {
  "kernelspec": {
   "display_name": "Python 3",
   "language": "python",
   "name": "python3"
  },
  "language_info": {
   "codemirror_mode": {
    "name": "ipython",
    "version": 3
   },
   "file_extension": ".py",
   "mimetype": "text/x-python",
   "name": "python",
   "nbconvert_exporter": "python",
   "pygments_lexer": "ipython3",
   "version": "3.11.11"
  }
 },
 "nbformat": 4,
 "nbformat_minor": 2
}
